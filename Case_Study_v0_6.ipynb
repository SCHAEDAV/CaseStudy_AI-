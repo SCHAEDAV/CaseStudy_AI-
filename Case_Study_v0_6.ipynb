{
  "cells": [
    {
      "cell_type": "markdown",
      "metadata": {
        "id": "view-in-github",
        "colab_type": "text"
      },
      "source": [
        "<a href=\"https://colab.research.google.com/github/SCHAEDAV/CaseStudy_AI-/blob/main/Case_Study_v0_6.ipynb\" target=\"_parent\"><img src=\"https://colab.research.google.com/assets/colab-badge.svg\" alt=\"Open In Colab\"/></a>"
      ]
    },
    {
      "cell_type": "code",
      "execution_count": null,
      "metadata": {
        "colab": {
          "base_uri": "https://localhost:8080/"
        },
        "id": "ChUMR3ocFRKg",
        "outputId": "79791579-b888-4d66-fb6a-897c6bcc94e0"
      },
      "outputs": [
        {
          "output_type": "stream",
          "name": "stdout",
          "text": [
            "Looking in indexes: https://pypi.org/simple, https://us-python.pkg.dev/colab-wheels/public/simple/\n",
            "Collecting folktables\n",
            "  Downloading folktables-0.0.12-py3-none-any.whl (17 kB)\n",
            "Requirement already satisfied: requests in /usr/local/lib/python3.9/dist-packages (from folktables) (2.27.1)\n",
            "Requirement already satisfied: numpy in /usr/local/lib/python3.9/dist-packages (from folktables) (1.22.4)\n",
            "Requirement already satisfied: pandas in /usr/local/lib/python3.9/dist-packages (from folktables) (1.5.3)\n",
            "Requirement already satisfied: scikit-learn in /usr/local/lib/python3.9/dist-packages (from folktables) (1.2.2)\n",
            "Requirement already satisfied: python-dateutil>=2.8.1 in /usr/local/lib/python3.9/dist-packages (from pandas->folktables) (2.8.2)\n",
            "Requirement already satisfied: pytz>=2020.1 in /usr/local/lib/python3.9/dist-packages (from pandas->folktables) (2022.7.1)\n",
            "Requirement already satisfied: idna<4,>=2.5 in /usr/local/lib/python3.9/dist-packages (from requests->folktables) (3.4)\n",
            "Requirement already satisfied: certifi>=2017.4.17 in /usr/local/lib/python3.9/dist-packages (from requests->folktables) (2022.12.7)\n",
            "Requirement already satisfied: urllib3<1.27,>=1.21.1 in /usr/local/lib/python3.9/dist-packages (from requests->folktables) (1.26.15)\n",
            "Requirement already satisfied: charset-normalizer~=2.0.0 in /usr/local/lib/python3.9/dist-packages (from requests->folktables) (2.0.12)\n",
            "Requirement already satisfied: joblib>=1.1.1 in /usr/local/lib/python3.9/dist-packages (from scikit-learn->folktables) (1.2.0)\n",
            "Requirement already satisfied: threadpoolctl>=2.0.0 in /usr/local/lib/python3.9/dist-packages (from scikit-learn->folktables) (3.1.0)\n",
            "Requirement already satisfied: scipy>=1.3.2 in /usr/local/lib/python3.9/dist-packages (from scikit-learn->folktables) (1.10.1)\n",
            "Requirement already satisfied: six>=1.5 in /usr/local/lib/python3.9/dist-packages (from python-dateutil>=2.8.1->pandas->folktables) (1.16.0)\n",
            "Installing collected packages: folktables\n",
            "Successfully installed folktables-0.0.12\n"
          ]
        }
      ],
      "source": [
        "pip install folktables"
      ]
    },
    {
      "cell_type": "code",
      "execution_count": null,
      "metadata": {
        "id": "cVpxVmgv9qdM"
      },
      "outputs": [],
      "source": [
        "state_list = ['AL', 'AK', 'AZ', 'AR', 'CA', 'CO', 'CT', 'DE', 'FL', 'GA', 'HI',\n",
        "              'ID', 'IL', 'IN', 'IA', 'KS', 'KY', 'LA', 'ME', 'MD', 'MA', 'MI',\n",
        "              'MN', 'MS', 'MO', 'MT', 'NE', 'NV', 'NH', 'NJ', 'NM', 'NY', 'NC',\n",
        "              'ND', 'OH', 'OK', 'OR', 'PA', 'RI', 'SC', 'SD', 'TN', 'TX', 'UT',\n",
        "              'VT', 'VA', 'WA', 'WV', 'WI', 'WY', 'PR']"
      ]
    },
    {
      "cell_type": "code",
      "execution_count": null,
      "metadata": {
        "id": "gQCYTRBzlYFT"
      },
      "outputs": [],
      "source": [
        "# Specify here which state and year the model should be trained (and tested) on\n",
        "training_state = 'PA'\n",
        "training_year = 2014\n",
        "training_horizon = '1-Year'\n",
        "# For task 6: Specify here in which state and when the model should be deployed\n",
        "deployment_state = 'PA'\n",
        "deployment_year = 2018\n",
        "deployment_horizon = '1-Year'"
      ]
    },
    {
      "cell_type": "markdown",
      "metadata": {
        "id": "6bELKqVf5RMh"
      },
      "source": [
        "# Setup"
      ]
    },
    {
      "cell_type": "markdown",
      "metadata": {
        "id": "zX7hVMAK5NJS"
      },
      "source": [
        "## Get training and testing data"
      ]
    },
    {
      "cell_type": "code",
      "execution_count": null,
      "metadata": {
        "id": "bd-naiRA1I8G"
      },
      "outputs": [],
      "source": [
        "def preprocess_data(features, label, group):\n",
        "  # Age\n",
        "  ix_right_age_group = (features[:,0]>=25) & (features[:,0]<=65)\n",
        "  features = features[ix_right_age_group]\n",
        "  label = label[ix_right_age_group]\n",
        "  group = group[ix_right_age_group]\n",
        "  # Race\n",
        "  ix_bw = (group==1) | (group==2)\n",
        "  features = features[ix_bw]\n",
        "  label = label[ix_bw]\n",
        "  group = group[ix_bw]\n",
        "\n",
        "  return (features, label, group)"
      ]
    },
    {
      "cell_type": "code",
      "execution_count": null,
      "metadata": {
        "colab": {
          "base_uri": "https://localhost:8080/"
        },
        "id": "PU9ShzDWhwNf",
        "outputId": "02197ab4-ef84-45f3-e9f4-bc4c3e755195"
      },
      "outputs": [
        {
          "output_type": "stream",
          "name": "stdout",
          "text": [
            "Downloading data for 2014 1-Year person survey for PA...\n"
          ]
        }
      ],
      "source": [
        "from folktables import ACSDataSource, ACSEmployment\n",
        "import numpy as np\n",
        "from sklearn.linear_model import LogisticRegression\n",
        "from sklearn.model_selection import train_test_split\n",
        "from sklearn.pipeline import make_pipeline\n",
        "from sklearn.preprocessing import StandardScaler\n",
        "\n",
        "data_source = ACSDataSource(survey_year=training_year, horizon=training_horizon, survey='person')\n",
        "acs_data = data_source.get_data(states=[training_state], download=True)\n",
        "features, label, group = ACSEmployment.df_to_numpy(acs_data)\n",
        "features, label, group = preprocess_data(features, label, group)"
      ]
    },
    {
      "cell_type": "markdown",
      "metadata": {
        "id": "7_jVRk_ukAPw"
      },
      "source": [
        "### How successful are the job coaches?\n",
        "Base rate: Probability of finding employment within the first year of working with the job coaches"
      ]
    },
    {
      "cell_type": "code",
      "execution_count": null,
      "metadata": {
        "colab": {
          "base_uri": "https://localhost:8080/"
        },
        "id": "4iA68t5Pj9yM",
        "outputId": "82c6ac95-87a0-4241-a984-982bba08cab5"
      },
      "outputs": [
        {
          "output_type": "execute_result",
          "data": {
            "text/plain": [
              "0.710184182015168"
            ]
          },
          "metadata": {},
          "execution_count": 6
        }
      ],
      "source": [
        "np.mean(label)"
      ]
    },
    {
      "cell_type": "markdown",
      "metadata": {
        "id": "ugahyo5Mlamh"
      },
      "source": [
        "## Train the model"
      ]
    },
    {
      "cell_type": "code",
      "execution_count": null,
      "metadata": {
        "colab": {
          "base_uri": "https://localhost:8080/",
          "height": 126
        },
        "id": "2VRQPlCphXDO",
        "outputId": "0499c5b8-92cf-4374-b74c-3390ccfe4aad"
      },
      "outputs": [
        {
          "output_type": "execute_result",
          "data": {
            "text/plain": [
              "Pipeline(steps=[('standardscaler', StandardScaler()),\n",
              "                ('logisticregression', LogisticRegression())])"
            ],
            "text/html": [
              "<style>#sk-container-id-1 {color: black;background-color: white;}#sk-container-id-1 pre{padding: 0;}#sk-container-id-1 div.sk-toggleable {background-color: white;}#sk-container-id-1 label.sk-toggleable__label {cursor: pointer;display: block;width: 100%;margin-bottom: 0;padding: 0.3em;box-sizing: border-box;text-align: center;}#sk-container-id-1 label.sk-toggleable__label-arrow:before {content: \"▸\";float: left;margin-right: 0.25em;color: #696969;}#sk-container-id-1 label.sk-toggleable__label-arrow:hover:before {color: black;}#sk-container-id-1 div.sk-estimator:hover label.sk-toggleable__label-arrow:before {color: black;}#sk-container-id-1 div.sk-toggleable__content {max-height: 0;max-width: 0;overflow: hidden;text-align: left;background-color: #f0f8ff;}#sk-container-id-1 div.sk-toggleable__content pre {margin: 0.2em;color: black;border-radius: 0.25em;background-color: #f0f8ff;}#sk-container-id-1 input.sk-toggleable__control:checked~div.sk-toggleable__content {max-height: 200px;max-width: 100%;overflow: auto;}#sk-container-id-1 input.sk-toggleable__control:checked~label.sk-toggleable__label-arrow:before {content: \"▾\";}#sk-container-id-1 div.sk-estimator input.sk-toggleable__control:checked~label.sk-toggleable__label {background-color: #d4ebff;}#sk-container-id-1 div.sk-label input.sk-toggleable__control:checked~label.sk-toggleable__label {background-color: #d4ebff;}#sk-container-id-1 input.sk-hidden--visually {border: 0;clip: rect(1px 1px 1px 1px);clip: rect(1px, 1px, 1px, 1px);height: 1px;margin: -1px;overflow: hidden;padding: 0;position: absolute;width: 1px;}#sk-container-id-1 div.sk-estimator {font-family: monospace;background-color: #f0f8ff;border: 1px dotted black;border-radius: 0.25em;box-sizing: border-box;margin-bottom: 0.5em;}#sk-container-id-1 div.sk-estimator:hover {background-color: #d4ebff;}#sk-container-id-1 div.sk-parallel-item::after {content: \"\";width: 100%;border-bottom: 1px solid gray;flex-grow: 1;}#sk-container-id-1 div.sk-label:hover label.sk-toggleable__label {background-color: #d4ebff;}#sk-container-id-1 div.sk-serial::before {content: \"\";position: absolute;border-left: 1px solid gray;box-sizing: border-box;top: 0;bottom: 0;left: 50%;z-index: 0;}#sk-container-id-1 div.sk-serial {display: flex;flex-direction: column;align-items: center;background-color: white;padding-right: 0.2em;padding-left: 0.2em;position: relative;}#sk-container-id-1 div.sk-item {position: relative;z-index: 1;}#sk-container-id-1 div.sk-parallel {display: flex;align-items: stretch;justify-content: center;background-color: white;position: relative;}#sk-container-id-1 div.sk-item::before, #sk-container-id-1 div.sk-parallel-item::before {content: \"\";position: absolute;border-left: 1px solid gray;box-sizing: border-box;top: 0;bottom: 0;left: 50%;z-index: -1;}#sk-container-id-1 div.sk-parallel-item {display: flex;flex-direction: column;z-index: 1;position: relative;background-color: white;}#sk-container-id-1 div.sk-parallel-item:first-child::after {align-self: flex-end;width: 50%;}#sk-container-id-1 div.sk-parallel-item:last-child::after {align-self: flex-start;width: 50%;}#sk-container-id-1 div.sk-parallel-item:only-child::after {width: 0;}#sk-container-id-1 div.sk-dashed-wrapped {border: 1px dashed gray;margin: 0 0.4em 0.5em 0.4em;box-sizing: border-box;padding-bottom: 0.4em;background-color: white;}#sk-container-id-1 div.sk-label label {font-family: monospace;font-weight: bold;display: inline-block;line-height: 1.2em;}#sk-container-id-1 div.sk-label-container {text-align: center;}#sk-container-id-1 div.sk-container {/* jupyter's `normalize.less` sets `[hidden] { display: none; }` but bootstrap.min.css set `[hidden] { display: none !important; }` so we also need the `!important` here to be able to override the default hidden behavior on the sphinx rendered scikit-learn.org. See: https://github.com/scikit-learn/scikit-learn/issues/21755 */display: inline-block !important;position: relative;}#sk-container-id-1 div.sk-text-repr-fallback {display: none;}</style><div id=\"sk-container-id-1\" class=\"sk-top-container\"><div class=\"sk-text-repr-fallback\"><pre>Pipeline(steps=[(&#x27;standardscaler&#x27;, StandardScaler()),\n",
              "                (&#x27;logisticregression&#x27;, LogisticRegression())])</pre><b>In a Jupyter environment, please rerun this cell to show the HTML representation or trust the notebook. <br />On GitHub, the HTML representation is unable to render, please try loading this page with nbviewer.org.</b></div><div class=\"sk-container\" hidden><div class=\"sk-item sk-dashed-wrapped\"><div class=\"sk-label-container\"><div class=\"sk-label sk-toggleable\"><input class=\"sk-toggleable__control sk-hidden--visually\" id=\"sk-estimator-id-1\" type=\"checkbox\" ><label for=\"sk-estimator-id-1\" class=\"sk-toggleable__label sk-toggleable__label-arrow\">Pipeline</label><div class=\"sk-toggleable__content\"><pre>Pipeline(steps=[(&#x27;standardscaler&#x27;, StandardScaler()),\n",
              "                (&#x27;logisticregression&#x27;, LogisticRegression())])</pre></div></div></div><div class=\"sk-serial\"><div class=\"sk-item\"><div class=\"sk-estimator sk-toggleable\"><input class=\"sk-toggleable__control sk-hidden--visually\" id=\"sk-estimator-id-2\" type=\"checkbox\" ><label for=\"sk-estimator-id-2\" class=\"sk-toggleable__label sk-toggleable__label-arrow\">StandardScaler</label><div class=\"sk-toggleable__content\"><pre>StandardScaler()</pre></div></div></div><div class=\"sk-item\"><div class=\"sk-estimator sk-toggleable\"><input class=\"sk-toggleable__control sk-hidden--visually\" id=\"sk-estimator-id-3\" type=\"checkbox\" ><label for=\"sk-estimator-id-3\" class=\"sk-toggleable__label sk-toggleable__label-arrow\">LogisticRegression</label><div class=\"sk-toggleable__content\"><pre>LogisticRegression()</pre></div></div></div></div></div></div></div>"
            ]
          },
          "metadata": {},
          "execution_count": 7
        }
      ],
      "source": [
        "X_train, X_test, y_train, y_test, group_train, group_test = train_test_split(\n",
        "    features, label, group, test_size=0.2, random_state=0)\n",
        "\n",
        "model = make_pipeline(StandardScaler(), LogisticRegression())\n",
        "model.fit(X_train, y_train)"
      ]
    },
    {
      "cell_type": "markdown",
      "metadata": {
        "id": "E8f2vqhTlfGi"
      },
      "source": [
        "## Make predictions"
      ]
    },
    {
      "cell_type": "code",
      "execution_count": null,
      "metadata": {
        "id": "6EIq-cPPlgMu"
      },
      "outputs": [],
      "source": [
        "yhat = model.predict(X_test)\n",
        "scores = model.predict_proba(X_test)[:,1]"
      ]
    },
    {
      "cell_type": "markdown",
      "metadata": {
        "id": "um6zI2Fi5Hhp"
      },
      "source": [
        "# Task 1"
      ]
    },
    {
      "cell_type": "code",
      "execution_count": null,
      "metadata": {
        "id": "rvfY_TYvtFct"
      },
      "outputs": [],
      "source": [
        "y_pred = (model.predict_proba(X_test)[:,1] >= 0.5).astype(int)"
      ]
    },
    {
      "cell_type": "code",
      "execution_count": null,
      "metadata": {
        "colab": {
          "base_uri": "https://localhost:8080/"
        },
        "id": "kW1GPCw80ekJ",
        "outputId": "bbdbf42c-ab31-44a9-f158-0802d46a30fc"
      },
      "outputs": [
        {
          "output_type": "execute_result",
          "data": {
            "text/plain": [
              "0.7649744621575607"
            ]
          },
          "metadata": {},
          "execution_count": 10
        }
      ],
      "source": [
        "from sklearn.metrics import accuracy_score\n",
        "\n",
        "accuracy = accuracy_score(y_test, y_pred)\n",
        "accuracy"
      ]
    },
    {
      "cell_type": "code",
      "execution_count": null,
      "metadata": {
        "id": "peCuOEQW6RTU"
      },
      "outputs": [],
      "source": [
        "import numpy as np\n",
        "\n",
        "bins = np.linspace(0, 1, 11)\n",
        "binids = np.digitize(scores, bins)\n"
      ]
    },
    {
      "cell_type": "code",
      "execution_count": null,
      "metadata": {
        "id": "1HISa5j56ZqE"
      },
      "outputs": [],
      "source": [
        "x = np.zeros(10)\n",
        "y = np.zeros(10)\n",
        "for i in range(10):\n",
        "    x[i] = np.mean(scores[binids == i+1])\n",
        "    y[i] = np.mean(y_test[binids == i+1])"
      ]
    },
    {
      "cell_type": "code",
      "execution_count": null,
      "metadata": {
        "colab": {
          "base_uri": "https://localhost:8080/",
          "height": 449
        },
        "id": "dPnLtv5I6U6x",
        "outputId": "00704947-826e-4d85-8b83-5ee7f919979b"
      },
      "outputs": [
        {
          "output_type": "display_data",
          "data": {
            "text/plain": [
              "<Figure size 640x480 with 1 Axes>"
            ],
            "image/png": "[encoded data removed]"
          },
          "metadata": {}
        }
      ],
      "source": [
        "import matplotlib.pyplot as plt\n",
        "\n",
        "plt.plot(x, y, 'o-')\n",
        "plt.plot([0, 1], [0, 1], 'k--')\n",
        "plt.xlabel('Predicted probability')\n",
        "plt.ylabel('Observed probability')\n",
        "plt.show()"
      ]
    },
    {
      "cell_type": "markdown",
      "source": [
        "**Summary**\n",
        "\n",
        "\n",
        "*   The graph should display both the predicted and actual probabilities along with 95% confidence intervals in the form of error bars.\n",
        "\n",
        "*   Observing the calibration plot, it can be deduced that the model is not perfectly aligned as the predicted probabilities are generally higher than the actual probabilities, primarily for people with lower scores.\n",
        "*   For the general observations once have to say that the model is moderately aligned since the predicted probabilities are relatively close to the actual probabilities.\n",
        "\n",
        "\n",
        "\n",
        "\n",
        " \n",
        "\n",
        "\n",
        "\n"
      ],
      "metadata": {
        "id": "wgTe6aG2gz81"
      }
    },
    {
      "cell_type": "markdown",
      "metadata": {
        "id": "aONsxyJV5e2J"
      },
      "source": [
        "# Task 2"
      ]
    },
    {
      "cell_type": "code",
      "execution_count": null,
      "metadata": {
        "id": "LYySLLcD6o1z"
      },
      "outputs": [],
      "source": [
        "# Split test data by race\n",
        "X_black = X_test[group_test == 1]\n",
        "y_black = y_test[group_test == 1]\n",
        "scores_black = model.predict_proba(X_black)[:, 1]\n",
        "\n",
        "X_white = X_test[group_test == 2]\n",
        "y_white = y_test[group_test == 2]\n",
        "scores_white = model.predict_proba(X_white)[:, 1]\n",
        "\n",
        "\n"
      ]
    },
    {
      "cell_type": "code",
      "execution_count": null,
      "metadata": {
        "colab": {
          "base_uri": "https://localhost:8080/",
          "height": 449
        },
        "id": "P1bFsj62yLbx",
        "outputId": "fa578bad-41eb-4904-e813-5aaf6ff2ae4c"
      },
      "outputs": [
        {
          "output_type": "display_data",
          "data": {
            "text/plain": [
              "<Figure size 640x480 with 1 Axes>"
            ],
            "image/png": "[encoded data removed]"
          },
          "metadata": {}
        }
      ],
      "source": [
        "#plot the distribution\n",
        "import matplotlib.pyplot as plt\n",
        "\n",
        "plt.hist(scores_black, bins=50, alpha=0.5, label='Black')\n",
        "plt.hist(scores_white, bins=50, alpha=0.5, label='White')\n",
        "plt.legend(loc='upper right')\n",
        "plt.xlabel('Score')\n",
        "plt.ylabel('Frequency')\n",
        "plt.show()"
      ]
    },
    {
      "cell_type": "markdown",
      "source": [
        "**Description of Results** tbd"
      ],
      "metadata": {
        "id": "S413DCDvhIR9"
      }
    },
    {
      "cell_type": "code",
      "execution_count": null,
      "metadata": {
        "colab": {
          "base_uri": "https://localhost:8080/",
          "height": 484
        },
        "id": "ngoG2Xgjyqo2",
        "outputId": "ea7b50f3-a53b-47cd-b22b-0b4380851b97"
      },
      "outputs": [
        {
          "output_type": "stream",
          "name": "stdout",
          "text": [
            "Bin 3: statistically significant difference in reemployment rates (p=0.013)\n",
            "Bin 4: statistically significant difference in reemployment rates (p=0.021)\n"
          ]
        },
        {
          "output_type": "display_data",
          "data": {
            "text/plain": [
              "<Figure size 640x480 with 1 Axes>"
            ],
            "image/png": "[encoded data removed]"
          },
          "metadata": {}
        }
      ],
      "source": [
        "import numpy as np\n",
        "from scipy.stats import ttest_ind\n",
        "import matplotlib.pyplot as plt\n",
        "\n",
        "# Split test data by race\n",
        "X_black = X_test[group_test == 1]\n",
        "y_black = y_test[group_test == 1]\n",
        "scores_black = model.predict_proba(X_black)[:, 1]\n",
        "\n",
        "X_white = X_test[group_test == 2]\n",
        "y_white = y_test[group_test == 2]\n",
        "scores_white = model.predict_proba(X_white)[:, 1]\n",
        "\n",
        "# Define score bins\n",
        "bins = np.arange(0, 1.1, 0.1)\n",
        "\n",
        "# Calculate actual reemployment rates for each score bin for both groups\n",
        "actual_rates_black, actual_rates_white = [], []\n",
        "for i in range(len(bins) - 1):\n",
        "    bin_mask_black = (scores_black >= bins[i]) & (scores_black < bins[i+1])\n",
        "    bin_mask_white = (scores_white >= bins[i]) & (scores_white < bins[i+1])\n",
        "    actual_rate_black = np.mean(y_black[bin_mask_black])\n",
        "    actual_rate_white = np.mean(y_white[bin_mask_white])\n",
        "    actual_rates_black.append(actual_rate_black)\n",
        "    actual_rates_white.append(actual_rate_white)\n",
        "    \n",
        "    # Perform hypothesis test for each bin\n",
        "    p_value = ttest_ind(y_black[bin_mask_black], y_white[bin_mask_white])[1]\n",
        "    if p_value < 0.05:\n",
        "        print(f\"Bin {i}: statistically significant difference in reemployment rates (p={p_value:.3f})\")\n",
        "        \n",
        "expected_rates_black = np.array(actual_rates_black)\n",
        "expected_rates_white = np.array(actual_rates_white)\n",
        "\n",
        "plt.plot([0, 1], [0, 1], 'k--', label='Perfect Calibration')\n",
        "plt.plot(expected_rates_black, actual_rates_black, 'o-', label='Black')\n",
        "plt.plot(expected_rates_white, actual_rates_white, 's-', label='White')\n",
        "plt.xlabel('Expected Reemployment Rate')\n",
        "plt.ylabel('Actual Reemployment Rate')\n",
        "plt.legend()\n",
        "plt.show()\n"
      ]
    },
    {
      "cell_type": "code",
      "source": [
        "from sklearn.metrics import accuracy_score, confusion_matrix\n",
        "for race_group in [1, 2]:\n",
        "    ix_group_test = group_test == race_group\n",
        "    group_y_test = y_test[ix_group_test]\n",
        "    group_yhat = yhat[ix_group_test]\n",
        "\n",
        "    group_accuracy = accuracy_score(group_y_test, group_yhat)\n",
        "    group_confusion = confusion_matrix(group_y_test, group_yhat)\n",
        "\n",
        "    print(f\"Group {race_group} ({'White' if race_group == 1 else 'Black'}) accuracy:\", group_accuracy)\n",
        "    print(f\"Group {race_group} ({'White' if race_group == 1 else 'Black'}) confusion matrix:\\n\", group_confusion)"
      ],
      "metadata": {
        "colab": {
          "base_uri": "https://localhost:8080/"
        },
        "id": "Gt3iZ7mEhXcL",
        "outputId": "abcd0f10-3331-41a4-a880-2250495037f6"
      },
      "execution_count": null,
      "outputs": [
        {
          "output_type": "stream",
          "name": "stdout",
          "text": [
            "Group 1 (White) accuracy: 0.7688896326667225\n",
            "Group 1 (White) confusion matrix:\n",
            " [[ 987 2325]\n",
            " [ 437 8202]]\n",
            "Group 2 (Black) accuracy: 0.7167868177136972\n",
            "Group 2 (Black) confusion matrix:\n",
            " [[249 200]\n",
            " [ 75 447]]\n"
          ]
        }
      ]
    },
    {
      "cell_type": "code",
      "execution_count": null,
      "metadata": {
        "colab": {
          "base_uri": "https://localhost:8080/"
        },
        "id": "nHvlvLYzTtv2",
        "outputId": "19ab2b05-e6bd-4ffe-997f-bf18f3badb7f"
      },
      "outputs": [
        {
          "output_type": "stream",
          "name": "stdout",
          "text": [
            "Base Rate: 0.708945983593871\n",
            "Positive Rate (Black): 0.8808467910635094\n",
            "Positive Rate (White): 0.666323377960865\n",
            "True Positive Rate (Black): 0.9494154416020373\n",
            "True Positive Rate (White): 0.8563218390804598\n",
            "False Negative Rate (Black): 0.05058455839796273\n",
            "False Negative Rate (White): 0.14367816091954022\n",
            "False Positive Rate (Black): 0.7019927536231884\n",
            "False Positive Rate (White): 0.44543429844098\n",
            "True Negative Rate (Black): 0.2980072463768116\n",
            "True Negative Rate (White): 0.5545657015590201\n"
          ]
        }
      ],
      "source": [
        "# Predict labels for black and white groups separately\n",
        "y_pred_black = model.predict(X_test[group_test == 1])\n",
        "y_pred_white = model.predict(X_test[group_test == 2])\n",
        "\n",
        "# Calculate base rate\n",
        "base_rate = np.mean(y_test)\n",
        "\n",
        "# Calculate positive rate, true positive rate, false negative rate, false positive rate, and true negative rate for black group\n",
        "pr_black = np.mean(y_pred_black)\n",
        "tpr_black = np.mean(y_pred_black[y_black == 1])\n",
        "fnr_black = np.mean(1 - y_pred_black[y_black == 1])\n",
        "fpr_black = np.mean(y_pred_black[y_black == 0])\n",
        "tnr_black = np.mean(1 - y_pred_black[y_black == 0])\n",
        "\n",
        "# Calculate positive rate, true positive rate, false negative rate, false positive rate, and true negative rate for white group\n",
        "pr_white = np.mean(y_pred_white)\n",
        "tpr_white = np.mean(y_pred_white[y_white == 1])\n",
        "fnr_white = np.mean(1 - y_pred_white[y_white == 1])\n",
        "fpr_white = np.mean(y_pred_white[y_white == 0])\n",
        "tnr_white = np.mean(1 - y_pred_white[y_white == 0])\n",
        "\n",
        "print('Base Rate:', base_rate)\n",
        "print('Positive Rate (Black):', pr_black)\n",
        "print('Positive Rate (White):', pr_white)\n",
        "print('True Positive Rate (Black):', tpr_black)\n",
        "print('True Positive Rate (White):', tpr_white)\n",
        "print('False Negative Rate (Black):', fnr_black)\n",
        "print('False Negative Rate (White):', fnr_white)\n",
        "print('False Positive Rate (Black):', fpr_black)\n",
        "print('False Positive Rate (White):', fpr_white)\n",
        "print('True Negative Rate (Black):', tnr_black)\n",
        "print('True Negative Rate (White):', tnr_white)"
      ]
    },
    {
      "cell_type": "markdown",
      "source": [
        "**Description of Results**tbd\n",
        "Code review (task 2, 3)"
      ],
      "metadata": {
        "id": "4PNqsTx7hujO"
      }
    },
    {
      "cell_type": "markdown",
      "metadata": {
        "id": "xztvCpATmz9w"
      },
      "source": [
        "# Task 3\n",
        "\n",
        "#### True Positive\n",
        "- Save on the unemployment benefits cost for two years: 2 * 30'000 = 60'000\n",
        "- Cost for the job coaching program: -20'000\n",
        "- Utility: 60'000 -20'000 = 40'000\n",
        "\n",
        "#### False Negative\n",
        "- No cost saved on unemployment benefits\n",
        "- No cost spend on job coaching\n",
        "- Utility: 0\n",
        "\n",
        "#### False Positive\n",
        "- No cost saved on unemployment benefits\n",
        "- Cost for the job coaching program: -20'000\n",
        "- Utility: - 20'000\n",
        "\n",
        "#### True Negative\n",
        "- No cost saved on unemployment benefits\n",
        "- No cost spend on job coaching\n",
        "- Utility: 0\n",
        "\n",
        "#### Decision maker utility matrix\n",
        "| | Y=0 | Y=1 |\n",
        "|-|-|-|\n",
        "|D=0|0|0|\n",
        "|D=1|-20'000|40'000|"
      ]
    },
    {
      "cell_type": "code",
      "execution_count": null,
      "metadata": {
        "colab": {
          "base_uri": "https://localhost:8080/"
        },
        "id": "wSphKos6EZ9r",
        "outputId": "f2706d07-5618-47e2-d4cc-1137884fd6d0"
      },
      "outputs": [
        {
          "output_type": "stream",
          "name": "stdout",
          "text": [
            "Best threshold: 0.36, Total utility: 299480000\n"
          ]
        }
      ],
      "source": [
        "thresholds = np.arange(0, 1.01, 0.01)\n",
        "max_utility = -np.inf\n",
        "best_threshold = None\n",
        "\n",
        "for threshold in thresholds:\n",
        "    y_pred = (model.predict_proba(X_test)[:, 1] >= threshold).astype(int)\n",
        "    \n",
        "    # Calculate utility based on the utility matrix\n",
        "    utility = np.sum((y_test == 1) & (y_pred == 1)) * 40000 - np.sum((y_test == 0) & (y_pred == 1)) * 20000\n",
        "    \n",
        "    if utility > max_utility:\n",
        "        max_utility = utility\n",
        "        best_threshold = threshold\n",
        "\n",
        "print(f\"Best threshold: {best_threshold}, Total utility: {max_utility}\")"
      ]
    },
    {
      "cell_type": "markdown",
      "metadata": {
        "id": "fwL9ULBsuiyB"
      },
      "source": [
        "# Task 4\n",
        "Assumtions:\n",
        "- Job coaching takes time and effort for the job seeker (-0.1) but also gives them knowledge that can be used in other areas (+0.3)\n",
        "- Finding a Job improves the condition of job seeker (+0.8)\n",
        "\n",
        "#### Decision subject utility matrix\n",
        "| | Y=0 | Y=1 |\n",
        "|-|-|-|\n",
        "|D=0|0|0.8|\n",
        "|D=1|0.2|1|\n",
        "\n",
        "#### Fairness criterion\n",
        "TPR(Black | J=j) = TPR(White | J=j)\n",
        "\n"
      ]
    },
    {
      "cell_type": "code",
      "execution_count": null,
      "metadata": {
        "colab": {
          "base_uri": "https://localhost:8080/"
        },
        "id": "vM-ha02ZEZ9s",
        "outputId": "41085cd0-f552-450d-be78-874364a10c0e"
      },
      "outputs": [
        {
          "output_type": "stream",
          "name": "stdout",
          "text": [
            "True Positive Rate comparison: z-statistic=14.393, p-value=0.000\n",
            "False Positive Rate comparison: z-statistic=-0.864, p-value=0.388\n"
          ]
        }
      ],
      "source": [
        "import numpy as np\n",
        "from statsmodels.stats.proportion import proportions_ztest\n",
        "\n",
        "# True Positive Rate comparison\n",
        "TP_black = np.sum((y_black == 1) & (y_pred_black == 1))\n",
        "TP_white = np.sum((y_white == 1) & (y_pred_white == 1))\n",
        "\n",
        "n_black = len(y_black)\n",
        "n_white = len(y_white)\n",
        "\n",
        "stat, p_value = proportions_ztest([TP_black, TP_white], [n_black, n_white])\n",
        "print(f\"True Positive Rate comparison: z-statistic={stat:.3f}, p-value={p_value:.3f}\")\n",
        "\n",
        "# False Positive Rate comparison\n",
        "FP_black = np.sum((y_black == 0) & (y_pred_black == 1))\n",
        "FP_white = np.sum((y_white == 0) & (y_pred_white == 1))\n",
        "\n",
        "stat, p_value = proportions_ztest([FP_black, FP_white], [n_black, n_white])\n",
        "print(f\"False Positive Rate comparison: z-statistic={stat:.3f}, p-value={p_value:.3f}\")\n"
      ]
    },
    {
      "cell_type": "markdown",
      "metadata": {
        "id": "-rAAuKKFEZ9s"
      },
      "source": [
        "fairness criterion is not fully satisfied. There is a significant difference in the TPR between the groups (p-value < 0.05), while the FPR is not significantly different (p-value > 0.05)."
      ]
    },
    {
      "cell_type": "markdown",
      "metadata": {
        "id": "GWLrk1rBwE1Z"
      },
      "source": [
        "# Task 5"
      ]
    },
    {
      "cell_type": "code",
      "execution_count": null,
      "metadata": {
        "id": "wX04fmvCEZ9t"
      },
      "outputs": [],
      "source": [
        "import pandas as pd\n",
        "\n",
        "# Prepare dataset for Task 1\n",
        "data_dict = {\n",
        "    'sensitive_attribute': group_test,\n",
        "    'Y': y_test.astype(int),\n",
        "    'scores': model.predict_proba(X_test)[:, 1]\n",
        "}\n",
        "\n",
        "task1_df = pd.DataFrame(data_dict)\n",
        "\n",
        "# Define a threshold for making decisions\n",
        "threshold = 0.5\n",
        "\n",
        "# Add a 'D' column to store the decisions based on the threshold\n",
        "task1_df['D'] = (task1_df['scores'] >= threshold).astype(int)\n",
        "\n",
        "# Save the resulting dataset as a CSV file\n",
        "task1_df.to_csv(\"prepared_dataset.csv\", index=False)"
      ]
    },
    {
      "cell_type": "markdown",
      "metadata": {
        "id": "VilXvMdgUFF1"
      },
      "source": [
        "# Task 6"
      ]
    },
    {
      "cell_type": "code",
      "execution_count": null,
      "metadata": {
        "id": "QR7OYqM8UVjV",
        "colab": {
          "base_uri": "https://localhost:8080/"
        },
        "outputId": "e5d67705-a288-4b7c-e4f0-14f07c3e666b"
      },
      "outputs": [
        {
          "output_type": "stream",
          "name": "stdout",
          "text": [
            "Downloading data for 2018 1-Year person survey for PA...\n"
          ]
        }
      ],
      "source": [
        "data_source_deploy = ACSDataSource(survey_year=deployment_year, horizon=deployment_horizon, survey='person')\n",
        "acs_deploy = data_source_deploy.get_data(states=[deployment_state], download=True)\n",
        "features_deploy, label_deploy, group_deploy = ACSEmployment.df_to_numpy(acs_deploy)\n",
        "\n",
        "yhat_deploy = model.predict(features_deploy)\n",
        "scores_deploy = model.predict_proba(features_deploy)[:,1]"
      ]
    },
    {
      "cell_type": "code",
      "source": [
        "import numpy as np\n",
        "\n",
        "def dm_utility(tp, tn, fp, fn, alpha=1):\n",
        "    \"\"\"\n",
        "    Calculate the Decision Maker (DM) utility given true positive, true negative, false positive, and false negative rates\n",
        "    \"\"\"\n",
        "    return tp - alpha * fp\n",
        "\n",
        "def calculate_dm_utility(y_true, y_pred, threshold, alpha=1):\n",
        "    \"\"\"\n",
        "    Calculate the Decision Maker (DM) utility for a given threshold\n",
        "    \"\"\"\n",
        "    y_pred_thresholded = (y_pred > threshold).astype(int)\n",
        "    tp = np.sum((y_true == 1) & (y_pred_thresholded == 1))\n",
        "    tn = np.sum((y_true == 0) & (y_pred_thresholded == 0))\n",
        "    fp = np.sum((y_true == 0) & (y_pred_thresholded == 1))\n",
        "    fn = np.sum((y_true == 1) & (y_pred_thresholded == 0))\n",
        "    return dm_utility(tp, tn, fp, fn, alpha)"
      ],
      "metadata": {
        "id": "mrgpteMjGuQa"
      },
      "execution_count": null,
      "outputs": []
    },
    {
      "cell_type": "code",
      "source": [
        "import matplotlib.pyplot as plt\n",
        "\n",
        "def plot_dm_utility(y_true, y_pred, thresholds, alpha=1):\n",
        "    \"\"\"\n",
        "    Plot DM utility as a function of threshold\n",
        "    \"\"\"\n",
        "    utilities = [calculate_dm_utility(y_true, y_pred, t, alpha=alpha) for t in thresholds]\n",
        "    plt.plot(thresholds, utilities)\n",
        "    plt.xlabel('Threshold')\n",
        "    plt.ylabel('DM Utility')\n",
        "    plt.show()\n",
        "\n",
        "def find_optimal_threshold(y_true, y_pred, thresholds, alpha=1):\n",
        "    \"\"\"\n",
        "    Find the threshold that maximizes DM utility\n",
        "    \"\"\"\n",
        "    utilities = [calculate_dm_utility(y_true, y_pred, t, alpha=alpha) for t in thresholds]\n",
        "    optimal_idx = np.argmax(utilities)\n",
        "    optimal_threshold = thresholds[optimal_idx]\n",
        "    return optimal_threshold\n",
        "\n",
        "# Set up data\n",
        "deployment_year = 2014\n",
        "deployment_horizon = '1-Year'\n",
        "deployment_state = 'CA'\n",
        "data_source_deploy = ACSDataSource(survey_year=deployment_year, horizon=deployment_horizon, survey='person')\n",
        "acs_deploy = data_source_deploy.get_data(states=[deployment_state], download=True)\n",
        "features_deploy, label_deploy, group_deploy = ACSEmployment.df_to_numpy(acs_deploy)\n",
        "\n",
        "# Make predictions\n",
        "yhat_deploy = model.predict(features_deploy)\n",
        "scores_deploy = model.predict_proba(features_deploy)[:,1]\n",
        "\n",
        "# Find optimal threshold\n",
        "thresholds = np.linspace(0, 1, 100)\n",
        "optimal_threshold = find_optimal_threshold(label_deploy, scores_deploy, thresholds)\n",
        "print(f\"Optimal DM threshold: {optimal_threshold:.3f}\")\n",
        "\n",
        "# Plot DM utility as a function of threshold\n",
        "plot_dm_utility(label_deploy, scores_deploy, thresholds)\n"
      ],
      "metadata": {
        "colab": {
          "base_uri": "https://localhost:8080/",
          "height": 484
        },
        "id": "xn1wZwnIHGG5",
        "outputId": "e483edcf-0022-451c-c1f6-bf39e348861c"
      },
      "execution_count": null,
      "outputs": [
        {
          "output_type": "stream",
          "name": "stdout",
          "text": [
            "Downloading data for 2014 1-Year person survey for CA...\n",
            "Optimal DM threshold: 0.727\n"
          ]
        },
        {
          "output_type": "display_data",
          "data": {
            "text/plain": [
              "<Figure size 640x480 with 1 Axes>"
            ],
            "image/png": "[encoded data removed]"
          },
          "metadata": {}
        }
      ]
    },
    {
      "cell_type": "code",
      "source": [
        "def demographic_parity_difference(y_true, y_pred, group):\n",
        "    \"\"\"\n",
        "    Calculate the difference in acceptance rates between the two groups\n",
        "    \"\"\"\n",
        "    accept_rate_group1 = np.mean(y_pred[group == 1])\n",
        "    accept_rate_group2 = np.mean(y_pred[group == 2])\n",
        "    return accept_rate_group1 - accept_rate_group2\n",
        "\n",
        "def calculate_fairness_criteria(y_true, y_pred, group, alpha=1):\n",
        "    \"\"\"\n",
        "    Calculate the DM utility and fairness criterion for a given threshold and group\n",
        "    \"\"\"\n",
        "    dm_utility_group1 = calculate_dm_utility(y_true[group == 1], y_pred[group == 1], optimal_threshold, alpha)\n",
        "    dm_utility_group2 = calculate_dm_utility(y_true[group == 2], y_pred[group == 2], optimal_threshold, alpha)\n",
        "    dp_diff = demographic_parity_difference(y_true, y_pred, group)\n",
        "    return dm_utility_group1 + dm_utility_group2 + alpha * np.abs(dp_diff)\n",
        "\n",
        "def find_optimal_threshold(y_true, scores, group):\n",
        "    \"\"\"\n",
        "    Find the optimal threshold that maximizes DM utility\n",
        "    \"\"\"\n",
        "    thresholds = np.arange(0, 1.1, 0.1)\n",
        "    dm_utilities = []\n",
        "    for threshold in thresholds:\n",
        "        dm_utility = calculate_dm_utility(y_true, scores, threshold)\n",
        "        dm_utilities.append(dm_utility)\n",
        "    optimal_threshold = thresholds[np.argmax(dm_utilities)]\n",
        "    return optimal_threshold\n",
        "\n",
        "optimal_threshold = find_optimal_threshold(label_deploy, scores_deploy, group_deploy)\n",
        "fairness_criteria = calculate_fairness_criteria(label_deploy, scores_deploy, group_deploy)\n",
        "dp_diff = demographic_parity_difference(label_deploy, yhat_deploy, group_deploy)\n",
        "\n",
        "print(f\"Optimal threshold: {optimal_threshold:.2f}\")\n",
        "print(f\"Fairness criterion: {fairness_criteria:.2f}\")\n",
        "print(f\"Demographic parity difference: {dp_diff:.2f}\")"
      ],
      "metadata": {
        "colab": {
          "base_uri": "https://localhost:8080/"
        },
        "id": "pspZD38QHcoU",
        "outputId": "19a77e0b-36b1-4b3b-a9fc-5fef4fa2c033"
      },
      "execution_count": null,
      "outputs": [
        {
          "output_type": "stream",
          "name": "stdout",
          "text": [
            "Optimal threshold: 0.70\n",
            "Fairness criterion: 39819.14\n",
            "Demographic parity difference: 0.20\n"
          ]
        }
      ]
    }
  ],
  "metadata": {
    "colab": {
      "provenance": [],
      "include_colab_link": true
    },
    "kernelspec": {
      "display_name": "Python 3",
      "name": "python3"
    },
    "language_info": {
      "codemirror_mode": {
        "name": "ipython",
        "version": 3
      },
      "file_extension": ".py",
      "mimetype": "text/x-python",
      "name": "python",
      "nbconvert_exporter": "python",
      "pygments_lexer": "ipython3",
      "version": "3.10.10"
    }
  },
  "nbformat": 4,
  "nbformat_minor": 0
}